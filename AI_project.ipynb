{
 "cells": [
  {
   "cell_type": "markdown",
   "metadata": {},
   "source": [
    "# Intoduction: \n",
    "Search algorithms are used to find the goal starting from the starting state to the goal state by taking the problem as an input and returning the solution to the problem after a number of steps to reach a possible solution result.\n",
    "\n",
    "Search algorithms contains:\n",
    "<ul>\n",
    "    <li>State space: a set of all accessible configurations in the problem environment.</li>\n",
    "    <li>Successor function: number of possible action from one state to another.</li>\n",
    "    <li>Start state: starting point.</li>\n",
    "    <li>Goal State: Access Point (the target).</li>\n",
    "</ul>\n",
    "\n",
    "There are tow types of search algorithms:\n",
    "<ol type=\"1\">\n",
    "    <li>Informed search algorithm: has a set of information like how far we are from the target, the cost of the path, Number of paths available to agent and how to reach the target node. These information help agents reduce search space exploration and find the target node more efficiently.\n",
    "</li><br>\n",
    "    <li>Uninformed Search Algorithms: Uninformed search algorithms are a class of brute force search algorithms. Undirected search algorithms do not contain additional information about the state or search space and whether the path is true or false to traverse the tree. For example, Breadth first search and Depth first search.</li>\n",
    "</ol>\n",
    "\n",
    "\n",
    "<b>In this project we will explan and implement A* search algorithm.</b>"
   ]
  },
  {
   "cell_type": "markdown",
   "metadata": {
    "direction": "rtl"
   },
   "source": [
    "# مقدمة\n",
    "\n",
    "تستخدم خوارزميات البحث للعثور على الهدف بدءا من نقطة البداية الى الهدف المطلوب عن طريق اخذ المشكلة كمدخل واعادة الحل للمشكلة بعد عدد من الخطوات للوصول الى نتيجة حل ممكنة.\n",
    "\n",
    "تحتوي خوارزميات البحث على:\n",
    "<ul>\n",
    "    <li>فضاء الحالة : هي مجموعة التكوينات التي يمكن الوصول اليها في بيئة المشكلة.</li>\n",
    "    <li>التحركات: عدد الاحتمالات الممكنة من حالة الى حالة اخرى.</li>\n",
    "    <li>حالة البداية : نقطة الانطلاق.</li>\n",
    "    <li>حالة الهدف : نقطة الوصول.</li>\n",
    "</ul>\n",
    "\n",
    "خوارزميات البحث تنقسم إلى نوعين:\n",
    " \n",
    "<ol type=\"1\">\n",
    "    <li>خوارزميات بحث موجَّه: تحتوي خوارزمية البحث الموجه على مجموعة من المعلومات مثل مدى بُعدنا عن الهدف وتكلفة المسار وعدد المسارات المتاحة للوكيل وكيفية الوصول إلى العقدة المستهدفة. تساعد هذه المعلومات الوكلاء في تقليل استكشاف مساحة البحث والعثور على العقدة المستهدفة بشكل أكثر كفاءة.</li>\n",
    "    <br>    \n",
    "    <li>خوارزميات بحث غير موجَّه: خوارزمية البحث غير موجه هي فئة من خوارزميات البحث التي تعمل بطريقة القوة الغاشمة. لا تحتوي خوارزميات البحث الغير موجه على معلومات إضافية حول الحالة أو مساحة البحث وما إذا كان المسار صحيحًا أم خاطئًا لاجتياز الشجرة. مثل , اتساع البحث أولا و عمق البحث الأول .</li>\n",
    "</ol>\n",
    "\n",
    "<b>في هذا البروجكت سوف نقوم بشرح وتطبيق خوارزمية البحث أ* بأستخدام لغة بايثون.</b>\n",
    "\n",
    "\n"
   ]
  },
  {
   "cell_type": "markdown",
   "metadata": {},
   "source": [
    "# A* search algorithm:\n",
    "\n",
    "A* search algorithm finds the lowest cost path from the start state to goal state (the target), it use a heuristic function, and it is provide a complete as well as an optimal soulution.\n",
    "<ul>\n",
    "    <li>Heuristic function: measure how close the target is to the current state, and used to decide which states leads to goal, heuristic function is important in determining the efficiency of the algorithm.</li>\n",
    "    <li>Optimal: find the least cost path to acvhive a goal state \" best possible solution for the problem \".</li>\n",
    "    <li>Complete: find all available paths from start state to goal state.</li>\n",
    "</ul>\n",
    "\n",
    "\n",
    "\n",
    "\n"
   ]
  },
  {
   "cell_type": "markdown",
   "metadata": {
    "direction": "rtl"
   },
   "source": [
    "# خوارزمية أ*:\n",
    "\n",
    "تعمل خوارزمية البحث أ* على إيجاد اقل مسار تكلفة من نقطة البداية الى نقطة النهاية (الهدف), تستخدم خوارزمية أ* الدالة الارشادية , كما انها توفر لنا حل مكتمل و مثالي . \n",
    "<ul>\n",
    "    <li>الدالة الارشادية: قياس مدى قرب الهدف من الحالة الحالية, تعتبر الدالة الارشادية مهمه لتحديد الحالات التي ترشدنا الى الهدف كما انها تستخدم لتحديد كفاءة الخوارزمية.</li>\n",
    "    <li>مثالي: العثور على المسار الأقل تكلفة لتحقيق حالة الهدف \" أفضل حل ممكن للمشكلة \".</li>\n",
    "    <li>مكتمل: البحث عن جميع المسارات المتاحة من حالة البداية إلى حالة الهدف.</li>\n",
    "</ul>\n",
    "\n"
   ]
  },
  {
   "cell_type": "markdown",
   "metadata": {},
   "source": [
    "# A* concepts:\n",
    "\n",
    "\n",
    "A* search algorithm calculate the cost to travel from current state to the neighbouring states and chooses the state that has least cost by using a mathematical equation.<br>\n",
    "    \n",
    "f(n) = g(n) + h(n)\n",
    "<p> \n",
    "Where:<br>\n",
    "g(n): the actual cost path from the start state to the current state.<br>\n",
    "h(n): the estimate cost path from the current state to the goal state.<br>\n",
    "f(n): the estimate cost path from the start state to the goal state.<br>\n",
    "</p>\n",
    "\n",
    "To solve problem by using A* algorithm we will use two arrays.<br>\n",
    "<ul>\n",
    "    <li>The first array is used to store the neighbour states to the current state, we will call it \"Fringe\".</li>\n",
    "    <li>The second array is used to store the states that have been traveled to in order to avoid a cycle, so that if we travel to a certain state and it is added to the second array we cannot travel to it again, we will call it \"Expand\".</li>\n",
    "</ul>\n",
    "\n",
    "\n",
    "\n",
    "\n",
    "In the following example, we will see how the A* search algorithm works."
   ]
  },
  {
   "cell_type": "markdown",
   "metadata": {
    "direction": "rtl"
   },
   "source": [
    "# مفاهيم أ*:\n",
    "\n",
    "تحسب خوارزمية البحث أ* تكلفة التنقل من الحالة الحالية إلى الحالات المجاورة وتختار الحالة الأقل تكلفة باستخدام معادلة رياضية.\n",
    "\n",
    "f(n) = g(n) + h(n) \n",
    "\n",
    "<p> \n",
    "حيث أن :<br>\n",
    "g(n): مسار التكلفة الفعلية من حالة البداية إلى الحالة الحالية.\n",
    "<br>\n",
    "h(n): مسار التكلفة التقديرية من الحالة الحالية إلى حالة الهدف.\n",
    "<br>\n",
    "f(n): مسار التكلفة التقديرية من حالة البداية إلى حالة الهدف.\n",
    "<br>\n",
    "</p>\n",
    "\n",
    "لحل المشكلة باستخدام خوارزمية أ* سوف نستخدم مصفوفتين.\n",
    "<ul>\n",
    "    <li>المصفوفة الاولى تستخدم لتخزين الحالات المجاورة للحالة الحالية، سوف نقوم بتسميتها \"Fringe\".</li>\n",
    "    <li>المصفوفة الثانية تستخدم لتخزين الحالات الي تم السفر اليها لكي  نتفادي حدوث دورة، بحيث اذا قمنا بالسفر الى حالة معينة وتم اضافتها الى المصفوفة الثانية لايمكننا السفر اليها مرة اخرى، سوف نقوم بتسميتها \"Expand\".</li>\n",
    "</ul>\n",
    "\n",
    "في المثال التالي سوف نرى آلية عمل خوارزمية البحث أ* ."
   ]
  },
  {
   "cell_type": "markdown",
   "metadata": {
    "direction": "ltr"
   },
   "source": [
    " <video controls src=\"Shared\\AExample.mp4\" width=\"950\" height=\"350\"></video>"
   ]
  },
  {
   "cell_type": "markdown",
   "metadata": {},
   "source": [
    "now after we have seen how is A* search algorithm working we will aplly it on our problem."
   ]
  },
  {
   "cell_type": "markdown",
   "metadata": {
    "direction": "rtl"
   },
   "source": [
    " الأن بعد ان رأينا كيفية عمل خوارزمية البحث أ* سوف نقوم بتطبيقها على مشكلتنا."
   ]
  },
  {
   "cell_type": "markdown",
   "metadata": {},
   "source": [
    "# Networks Problem Example \n",
    "\n",
    "As we can see in the following example, the network is divided into two parts:\n",
    "<ol>\n",
    "    <li>The network edge and it contains a group of computers linked to a common router.</li>\n",
    "    <li>The network core and it contains a group of routers.</li>\n",
    "</ol>\n",
    "When we sending data between two computers in different networks edge, the message will transmit from the sender network edge to the network core and passing through a group of routers until it reach to other network edge where the destination is located."
   ]
  },
  {
   "cell_type": "markdown",
   "metadata": {
    "direction": "rtl"
   },
   "source": [
    "# مثال على مشكلة الشبكات\n",
    "\n",
    "كما نرى في المثال التالي تنقسم الشبكة الى قسمين:\n",
    "<ol>\n",
    "    <li>أطراف الشبكة وتحتوي على مجموعة من أجهزة الحاسب مرتبطة بجهاز راوتر مشترك.</li>\n",
    "    <li>نواة الشبكة وتحتوي على مجموعة من أجهزة الراوتر.</li>\n",
    "</ol>\n",
    "\n",
    "عند إرسال البيانات بين جهازين حاسب في طرفين مختلفين فإن الرسالة تنتقل من حاسب المرسل الموجود في طرف الشبكة الى نواة الشبكة والانتقال بين مجموعة من أجهزه الراوتر الى طرف الشبكة الاخر لتسليم البيانات الى حاسب المستلم (الهدف المطلوب)."
   ]
  },
  {
   "cell_type": "markdown",
   "metadata": {},
   "source": [
    "<img src=\"Shared\\networking.png\" width=\"950\" height=\"350\">"
   ]
  },
  {
   "cell_type": "markdown",
   "metadata": {},
   "source": [
    "We will apply the algorithm to the problem of sending data from device A to device G1 to find the fastest possible path to transfer data between two devices.<br>\n",
    "\n",
    "The heuristic function used in this example is the number of users on the networks. if number of users decrease then the data transmission rate will increase.<br>\n",
    "<ul>\n",
    "    <li>The edges number between nodes represent the real number of users in the network.</li>\n",
    "    <li>The numbers above the node represent the estimated number of users in the network.</li>\n",
    "</ul>\n",
    "\n",
    "problem formulation:\n",
    "<ol type = \"1\">\n",
    "    <li>State space: computers and routers.</li>\n",
    "    <li>Successor function: moves from one router to another router.</li>\n",
    "    <li>Initial state: source device \"A\".</li>\n",
    "    <li>Goal state (target): destination device \"G1\".</li>\n",
    "</ol>"
   ]
  },
  {
   "cell_type": "markdown",
   "metadata": {
    "direction": "rtl"
   },
   "source": [
    "سوف نطبق الخوارزمية على مشكلة ارسال البيانات من جهاز أ الى جهاز ج للعثور على أسرع طريق ممكن لنقل البيانات بين الجهازين.\n",
    "\n",
    "الدالة الارشادية المستخدمة في هذا المثال عدد المستخدمين في الشبكة، فكلما قل عدد المستخدمين زادت سرعة إرسال البيانات.\n",
    "<ul>\n",
    "    <li>تمثل الأرقام الموجودة على الاضلاع المرتبطة بين العقد القيمة الحقيقية لعدد المستخدمين في الشبكة.</li>\n",
    "    <li>تمثل الأرقام الموجودة فوق العقدة القيمة المتوقعة لعدد المستخدمين في الشبكة.</li>\n",
    "</ul>\n",
    "\n",
    "صياغة المشكلة:\n",
    "<ol type = \"1\">\n",
    "    <li>فضاء الحالة: أجهزه الحاسب وجميع أجهزه الراوتر.</li>\n",
    "    <li>التحركات: الانتقال من راوتر الى راوتر اخر.</li>\n",
    "    <li>الحالة الابتدائية: المرسل جهاز أ.</li>\n",
    "    <li>الحالة النهائية (الهدف): المستقبل جهاز ج.</li>\n",
    "</ol>"
   ]
  },
  {
   "cell_type": "markdown",
   "metadata": {},
   "source": [
    " <video controls src=\"Shared\\NetworkExample.mp4\" width=\"950\" height=\"350\" muted></video>"
   ]
  },
  {
   "cell_type": "markdown",
   "metadata": {},
   "source": [
    "# Implementation:"
   ]
  },
  {
   "cell_type": "markdown",
   "metadata": {
    "direction": "rtl"
   },
   "source": [
    "# التنفيذ"
   ]
  },
  {
   "cell_type": "markdown",
   "metadata": {},
   "source": [
    "### A* search algorithm"
   ]
  },
  {
   "cell_type": "markdown",
   "metadata": {
    "direction": "rtl"
   },
   "source": [
    "### خوارزمية البحث أ*"
   ]
  },
  {
   "cell_type": "code",
   "execution_count": 1,
   "metadata": {},
   "outputs": [],
   "source": [
    "class AstarSearch:\n",
    "\n",
    "\n",
    "    def __init__(self, tree:dict, heuristic:dict):\n",
    "        self.tree = tree\n",
    "        self.heuristic = heuristic \n",
    "\n",
    "\n",
    "    def a_star_search_algorithm(self, start:chr, Goal:chr):\n",
    "        self.expand_nodes = []\n",
    "        self.path_cost = {start: 0}\n",
    "        self.start_heuristic = self.heuristic[start]\n",
    "        self.fringe_nodes = [[start,self.start_heuristic]]"
   ]
  },
  {
   "cell_type": "markdown",
   "metadata": {},
   "source": [
    "In the previous part:\n",
    "<ul>\n",
    "    <li>create a class for the algorithm.</li>\n",
    "    <li>defined class constructor, receives the tree and the heuristic function.</li>\n",
    "    <li>create A* algorithm function, receives the start node and the goal node.</li>\n",
    "    <li>create expand array.</li>\n",
    "    <li>create path cost array.</li>\n",
    "    <li>store start node heuristic.</li>\n",
    "    <li>create fringe array and insert start node and it is heuristic.</li>\n",
    "</ul>"
   ]
  },
  {
   "cell_type": "markdown",
   "metadata": {
    "direction": "rtl"
   },
   "source": [
    "في الجزئية السابقة: \n",
    "قمنا بانشاء فصل للخوارزمية وتعريف منشئ الفصل يستقبل الشجرة والدالة الارشادية ومن ثم قمنا بانشاء دالة الخوارزمية أ* تستقبل عقدة البداية وعقدة الهدف وتقوم باضافة عقدة البداية الى مصفوفة \"fringe\".\n",
    "<ul>\n",
    "    <li>إنشاء فصل للخوارزمية.</li>\n",
    "    <li>تعريف منشئ الفصل يستقبل الشجرة والدالة الارشادية.</li>\n",
    "    <li>إنشاء دالة الخوارزمية أ* تستقبل عقدة البداية وعقدة النهاية.</li>\n",
    "    <li>إنشاء مصفوفة \"expand\".</li>\n",
    "    <li>إأنشاء مصفوفة لقيمة المسار.</li>\n",
    "    <li>تخزين الدالة لارشادية لعقدة البداية.</li>\n",
    "    <li>إنشاء مصفوفة \"fringe\" وإضافة عقدة البداية ودالتها الارشادية.</li>\n",
    "    \n",
    "</ul>"
   ]
  },
  {
   "cell_type": "code",
   "execution_count": 2,
   "metadata": {
    "collapsed": true
   },
   "outputs": [
    {
     "ename": "NameError",
     "evalue": "name 'self' is not defined",
     "output_type": "error",
     "traceback": [
      "\u001b[1;31m---------------------------------------------------------------------------\u001b[0m",
      "\u001b[1;31mNameError\u001b[0m                                 Traceback (most recent call last)",
      "\u001b[1;32m~\\AppData\\Local\\Temp/ipykernel_18604/3588210796.py\u001b[0m in \u001b[0;36m<module>\u001b[1;34m\u001b[0m\n\u001b[0;32m      1\u001b[0m \u001b[1;32mwhile\u001b[0m \u001b[1;32mTrue\u001b[0m\u001b[1;33m:\u001b[0m\u001b[1;33m\u001b[0m\u001b[1;33m\u001b[0m\u001b[0m\n\u001b[1;32m----> 2\u001b[1;33m     \u001b[0mself\u001b[0m\u001b[1;33m.\u001b[0m\u001b[0mfn_values\u001b[0m \u001b[1;33m=\u001b[0m \u001b[1;33m[\u001b[0m\u001b[0mi\u001b[0m\u001b[1;33m[\u001b[0m\u001b[1;36m1\u001b[0m\u001b[1;33m]\u001b[0m \u001b[1;32mfor\u001b[0m \u001b[0mi\u001b[0m \u001b[1;32min\u001b[0m \u001b[0mself\u001b[0m\u001b[1;33m.\u001b[0m\u001b[0mfringe_nodes\u001b[0m\u001b[1;33m]\u001b[0m\u001b[1;33m\u001b[0m\u001b[1;33m\u001b[0m\u001b[0m\n\u001b[0m\u001b[0;32m      3\u001b[0m     \u001b[0mself\u001b[0m\u001b[1;33m.\u001b[0m\u001b[0msmall_fn_index\u001b[0m \u001b[1;33m=\u001b[0m \u001b[0mself\u001b[0m\u001b[1;33m.\u001b[0m\u001b[0mfn_values\u001b[0m\u001b[1;33m.\u001b[0m\u001b[0mindex\u001b[0m\u001b[1;33m(\u001b[0m\u001b[0mmin\u001b[0m\u001b[1;33m(\u001b[0m\u001b[0mself\u001b[0m\u001b[1;33m.\u001b[0m\u001b[0mfn_values\u001b[0m\u001b[1;33m)\u001b[0m\u001b[1;33m)\u001b[0m\u001b[1;33m\u001b[0m\u001b[1;33m\u001b[0m\u001b[0m\n\u001b[0;32m      4\u001b[0m     \u001b[0mself\u001b[0m\u001b[1;33m.\u001b[0m\u001b[0msmall_node_fn_char\u001b[0m \u001b[1;33m=\u001b[0m \u001b[0mself\u001b[0m\u001b[1;33m.\u001b[0m\u001b[0mfringe_nodes\u001b[0m\u001b[1;33m[\u001b[0m\u001b[0mself\u001b[0m\u001b[1;33m.\u001b[0m\u001b[0msmall_fn_index\u001b[0m\u001b[1;33m]\u001b[0m\u001b[1;33m[\u001b[0m\u001b[1;36m0\u001b[0m\u001b[1;33m]\u001b[0m\u001b[1;33m\u001b[0m\u001b[1;33m\u001b[0m\u001b[0m\n",
      "\u001b[1;31mNameError\u001b[0m: name 'self' is not defined"
     ]
    }
   ],
   "source": [
    "        while True:\n",
    "            self.fn_values = [i[1] for i in self.fringe_nodes]\n",
    "            self.small_fn_index = self.fn_values.index(min(self.fn_values))\n",
    "            self.small_node_fn_char = self.fringe_nodes[self.small_fn_index][0]"
   ]
  },
  {
   "cell_type": "markdown",
   "metadata": {},
   "source": [
    "In the previous part: \n",
    "<ul>\n",
    "    <li>creat a while loop to go through all the nodes.</li>\n",
    "    <li>store all f(n) values in \"fringe\" array.</li>\n",
    "    <li>store smallest f(n) value .</li>\n",
    "    <li>store character of smallest f(n) value.</li>\n",
    "</ul>"
   ]
  },
  {
   "cell_type": "markdown",
   "metadata": {
    "direction": "rtl"
   },
   "source": [
    "في الجزئية السابقة:\n",
    "<ul>\n",
    "    <li>أنشاء حلقة تكرارية للمرور بجميع العقد.</li>\n",
    "    <li>تخزين جميع قيم f(n) الموجودة في مصفوفة \"fringe\"</li>\n",
    "    <li>تخزين اصغر قيمة لـ f(n)</li>\n",
    "    <li>تخزين حرف أصغر قيمة f(n) </li>\n",
    "</ul> "
   ]
  },
  {
   "cell_type": "code",
   "execution_count": null,
   "metadata": {},
   "outputs": [],
   "source": [
    "            self.expand_nodes.append(self.fringe_nodes[self.small_fn_index])\n",
    "            del self.fringe_nodes[self.small_fn_index]\n",
    "            if self.expand_nodes[-1][0] == Goal:\n",
    "                break"
   ]
  },
  {
   "cell_type": "markdown",
   "metadata": {},
   "source": [
    "In the previous part: \n",
    "<ul>\n",
    "    <li>insert smallest f(n) node in expand array.</li>\n",
    "    <li>remove smallest f(n) node from fringe array after it has been added to expand array.</li>\n",
    "    <li>if goal have been expanded then stop the loop!.</li>\n",
    "</ul>"
   ]
  },
  {
   "cell_type": "markdown",
   "metadata": {
    "direction": "rtl"
   },
   "source": [
    "في الجزئية السابقة: \n",
    "<ul>\n",
    "    <li>أضافة أصغر قيمة لـ f(n) في مصفوفة \"expand\".</li>\n",
    "    <li>أزالة أصغر قمية لـ f(n) من مصفوفة \"fringe\" بعد ان تم اضافتها الى مصفوفة \"expand\".</li>\n",
    "    <li>في حال تم عمل expand للهدف إذاً أوقف التكرار!.</li>\n",
    "</ul>"
   ]
  },
  {
   "cell_type": "code",
   "execution_count": null,
   "metadata": {},
   "outputs": [],
   "source": [
    "            for self.item in self.tree[self.small_node_fn_char]:\n",
    "                if self.item[0] in [self.expand_item[0] for self.expand_item in self.expand_nodes]:\n",
    "                    continue\n",
    "                self.path_cost.update({self.item[0]: self.path_cost[self.small_node_fn_char] + self.item[1]})\n",
    "                self.fn_value = self.path_cost[self.small_node_fn_char] + heuristic[self.item[0]] + self.item[1]\n",
    "                self.temp = [self.item[0], self.fn_value] \n",
    "                self.fringe_nodes.append(self.temp)"
   ]
  },
  {
   "cell_type": "markdown",
   "metadata": {},
   "source": [
    "In the previous part:\n",
    "<ul>\n",
    "    <li>create for loop to discover all current node neighbores.</li>\n",
    "    <li>if any of current node neighbores have already expanded then skip it.</li>\n",
    "</ul>\n",
    "<ul>\n",
    "<b>Otherwise: </b>\n",
    "    <li>update actual path cost value of current node {current node = total path cost from start node to previous node + actual cost from previous node to current node}.</li>\n",
    "    <li>calculate and store f(n) value for current node { f(n) of current node = actual path cost + heuristic  }.</li>\n",
    "    <li>store f(n) value of current node and it is character in a temp variable.</li>\n",
    "    <li>insert temp variable in fringe array.</li>\n",
    "</ul>"
   ]
  },
  {
   "cell_type": "markdown",
   "metadata": {
    "direction": "rtl"
   },
   "source": [
    "في الجزئية السابقة : \n",
    "<ul>\n",
    "    <li>إنشاء حلقة تكرار لإكتشاف جميع الجيران للعقدة الحالية.</li>\n",
    "    <li>تحقق إذا كان أحد جيران الحالة الحالية في مصفوفة \"expand\" اذا قم بتجاهله.</li>\n",
    "    </ul>\n",
    "    <ul>\n",
    "    <b>غير ذلك:</b>\n",
    "    <li>تحديث قيمة المسار الحقيقي للعقدة الحالية {العقدة الحالية = مجموع قيمة المسار الحقيقي من عقدة البداية الى العقدة السابقة + قيمة المسار الحقيقية من العقدة السابقة الى العقدة الحالية}.</li>\n",
    "    <li>حساب وتخزين قيمة f(n) للعقدة الحالية {قيمة f(n) للعقدة الحالية = قيمة المسار الحقيقي + الدالة الارشادية}.</li>\n",
    "    <li>تخزين حرف و قيمة f(n) للعقدة الحالية في متغير مؤقت.</li>\n",
    "    <li>إضافة المتغير المؤقت في مصفوفة \"fringe\". </li>\n",
    "</ul>"
   ]
  },
  {
   "cell_type": "code",
   "execution_count": null,
   "metadata": {},
   "outputs": [],
   "source": [
    "        return self.fringe_nodes, self.expand_node, max(self.path_cost.values())"
   ]
  },
  {
   "cell_type": "markdown",
   "metadata": {},
   "source": [
    "In the previous part:\n",
    "<ul>\n",
    "    <li>return fring array.</li>\n",
    "    <li>return expand array.</li>\n",
    "    <li>return total cost.</li>\n",
    "</ul>"
   ]
  },
  {
   "cell_type": "markdown",
   "metadata": {
    "direction": "rtl"
   },
   "source": [
    "في الجزئية السابقة :\n",
    "<ul>\n",
    "    <li>إرجاع مصفوفة \"fringe\".</li>\n",
    "    <li>إرجاع  مصفوفة \"expand\".</li>\n",
    "    <li>إرجاع تكلفة المسار.</li>\n",
    "</ul>"
   ]
  },
  {
   "cell_type": "code",
   "execution_count": null,
   "metadata": {},
   "outputs": [],
   "source": [
    "    def optimal(self, Goal):\n",
    "        self.optimal_path = [Goal]\n",
    "        for i in range(len(self.expand_nodes)-2,-1,-1):\n",
    "            self.current_node_char = self.expand_nodes[i][0]\n",
    "            if Goal in [self.children[0] for self.children in self.tree[self.current_node_char]]:\n",
    "                self.optimal_path.append(self.current_node_char)\n",
    "                Goal = self.current_node_char\n",
    "        self.optimal_path.reverse()\n",
    "        return self.optimal_path"
   ]
  },
  {
   "cell_type": "markdown",
   "metadata": {},
   "source": [
    "In the previous part:\n",
    "<ul>\n",
    "    <li>create optimal path function, recive goal node.</li>\n",
    "    <li>create optimal path array and insert the goal node.</li>\n",
    "    <li>create loop begin from the last index in expand array and move until reach the first index.</li>\n",
    "    <li>store current node character.</li>\n",
    "    <li>check if goal inside current node neighbores.</li>\n",
    "    then:\n",
    "    <li>add current node to optimal path array.</li>\n",
    "    <li>Goal node = current node.</li>\n",
    "    <li>reverse optimal path array to get the path from start node to the goal node.</li>\n",
    "    <li>return optimal path array.</li>\n",
    "</ul>"
   ]
  },
  {
   "cell_type": "markdown",
   "metadata": {
    "direction": "rtl"
   },
   "source": [
    "في الجزئية السابقة: \n",
    "<ul>\n",
    "    <li>إنشاء دالة المسار المثالي تستقبل عقدة الهدف.</li>\n",
    "    <li>إنشاء مصفوفة المسار المثالي وإضافة عقدة الهدف.</li>\n",
    "    <li>إنشاء حلقة تكرار تبدأ من المؤشر النهائي في مصفوفة \"expand\" وتتحرك حتى تصل الى المؤشر البدائي. </li>\n",
    "    <li>تخزين حرف العقدة الحالية.</li>\n",
    "    <li>تحقق اذا كان الهدف أحد جيران العقدة الحالية.</li>\n",
    "    إذًا:\n",
    "    <li>إضافة العقدة الحالية الى مصفوفة المسار المثالي.</li>\n",
    "    <li>عقدة الهدف = العقدة الحالية .</li>\n",
    "    <li>إعكس ترتيب مصفوفة المسار المثالي للحصول على المسار من عقدة البداية الى عقدة الهدف.</li>\n",
    "    <li>إرجاع مصفوفة المسار المثالي.</li>\n",
    "</ul>"
   ]
  },
  {
   "cell_type": "markdown",
   "metadata": {},
   "source": [
    "#### Now after we have seen how A* search algorithm can be implemented, lets creat a main function to test our implementation."
   ]
  },
  {
   "cell_type": "markdown",
   "metadata": {
    "direction": "rtl"
   },
   "source": [
    "#### الآن بعد أن رأينا كيف يمكن تنفيذ خوارزمية البحث A * , سوف نقوم بإنشاء الدالة الرئيسية لإختبار التنفيذ ."
   ]
  },
  {
   "cell_type": "code",
   "execution_count": 4,
   "metadata": {},
   "outputs": [
    {
     "name": "stdout",
     "output_type": "stream",
     "text": [
      "Fringe Nodes:  [['R5', 16], ['R5', 16], ['R5', 16], ['G2', 15], ['G3', 15], ['G4', 15]]\n",
      "Expand Nodes:  [['A', 14], ['R1', 14], ['R2', 14], ['R3', 14], ['R3', 15], ['R4', 15], ['R6', 15], ['G1', 15]]\n",
      "Optimal Path:  ['A', 'R1', 'R2', 'R4', 'R6', 'G1']\n",
      "Total Cost:  15\n"
     ]
    }
   ],
   "source": [
    "class AstarSearch:\n",
    "\n",
    "    #creat class constructor that takes two parameters: tree and heuristic \n",
    "    def __init__(self, tree:dict, heuristic:dict):\n",
    "        self.tree       = tree\n",
    "        self.heuristic  = heuristic \n",
    "\n",
    "    #A* search algorithm function\n",
    "    #this function used constructor variables and returns two parameters : visited node & Optimal path\n",
    "    def a_star_search_algorithm(self, start:chr, Goal:chr):\n",
    "        self.expand_node = []     # Expanded nodes\n",
    "        self.fringe_nodes = []     # Fringe nodes\n",
    "        self.path_cost = {start: 0}     #initial cost of paths\n",
    "        self.start_heuristic = self.heuristic[start]       #getting start node heuristic\n",
    "        self.fringe_nodes = [[start,self.start_heuristic]] #add start state and its heuristic to fringe\n",
    "\n",
    "        #find expanded nodes\n",
    "        while True:\n",
    "            self.fn_values = [i[1] for i in self.fringe_nodes] # take f(n) value for all nodes in fringe\n",
    "            self.small_fn_index = self.fn_values.index(min(self.fn_values)) # take index of smallest f(n) from fn_values\n",
    "            self.small_node_fn_char  = self.fringe_nodes[self.small_fn_index][0]  # take character that related to index\n",
    "\n",
    "            self.expand_node.append(self.fringe_nodes[self.small_fn_index]) # add smallest f(n) node to expand\n",
    "            del self.fringe_nodes[self.small_fn_index] # delete smallest node value from fringe\n",
    "            if self.expand_node[-1][0] == Goal:  # break the loop if Goal state has been expanded\n",
    "                break\n",
    "            \n",
    "            for self.item in self.tree[self.small_node_fn_char]: # go throug all current state neighbores\n",
    "                if self.item[0] in [self.expand_item[0] for self.expand_item in self.expand_node]: # check if any of current node neighbors in expand node then skip it\n",
    "                    continue\n",
    "                             # current node char:   path cost for previous node              + actual cost to current node \n",
    "                self.path_cost.update({self.item[0]: self.path_cost[self.small_node_fn_char] + self.item[1]}) # add the total actual cost from the start node to the current node\n",
    "\n",
    "                                #path cost for previous node            + current node heuristic  + actual cost to current node \n",
    "                self.fn_value = self.path_cost[self.small_node_fn_char] + heuristic[self.item[0]] + self.item[1] # calculate f(n) value for current node\n",
    "                self.temp = [self.item[0], self.fn_value] # take currnt node char and its f(n) value \n",
    "                self.fringe_nodes.append(self.temp) # store temp in fringe\n",
    "\n",
    "        return self.fringe_nodes, self.expand_node, max(self.path_cost.values())\n",
    "\n",
    "   #this function recieve the goal state and parint the optimal path  \n",
    "    def optimal(self, Goal):\n",
    "        self.optimal_path = [Goal] # optimal node sequence\n",
    "        for i in range(len(self.expand_node)-2,-1,-1): # start from last node in expand and move until reach the first node\n",
    "            self.current_node_char = self.expand_node[i][0] # take current node char \n",
    "            if Goal in [self.children[0] for self.children in self.tree[self.current_node_char]]: # check if current node related to goal\n",
    "                self.optimal_path.append(self.current_node_char) # add current node to optimal path\n",
    "                Goal = self.current_node_char # change goal to current node\n",
    "        self.optimal_path.reverse()\n",
    "        return self.optimal_path\n",
    "\n",
    "  \n",
    "\n",
    "\n",
    "if __name__ == \"__main__\":\n",
    "    tree = {\n",
    "        'A': [ ['R1',1] ],\n",
    "        'B': [ ['R1',1] ],\n",
    "        'C': [ ['R1',1] ],\n",
    "        'D': [ ['R1',1] ],\n",
    "        'R1': [ ['R2',3], ['R3',5] ],\n",
    "        'R2': [ ['R3',1], ['R4',4], ['R5',6] ],\n",
    "        'R3': [ ['R2',1], ['R5',5] ],\n",
    "        'R4': [ ['R6',6] ],\n",
    "        'R5': [ ['R6',4] ],\n",
    "        'R6': [ ['G1', 1], ['G2', 1], ['G3', 1], ['G4', 1] ],\n",
    "        'G1': [ ['R6',1] ],\n",
    "        'G2': [ ['R6',1] ],\n",
    "        'G3': [ ['R6',1] ],\n",
    "        'G4': [ ['R6',1] ]\n",
    "        \n",
    "    }\n",
    "\n",
    "    heuristic = {'A': 14, 'B': 14, 'C': 14, 'D': 14, 'R1': 13, 'R2': 10, 'R3': 9, 'R4': 7, 'R5': 6, 'R6': 1, 'G1': 0, 'G2': 0, 'G3': 0, 'G4': 0}\n",
    "\n",
    "    astar= AstarSearch(tree, heuristic)\n",
    "    fringe, expand, cost = astar.a_star_search_algorithm('A','G1')\n",
    "    optimal = astar.optimal('G1')\n",
    "    print(\"Fringe Nodes: \",fringe)\n",
    "    print(\"Expand Nodes: \", expand)\n",
    "    print(\"Optimal Path: \", optimal)\n",
    "    print(\"Total Cost: \", cost)"
   ]
  },
  {
   "cell_type": "code",
   "execution_count": null,
   "metadata": {},
   "outputs": [],
   "source": []
  }
 ],
 "metadata": {
  "direction": "ltr",
  "kernelspec": {
   "display_name": "Python 3 (ipykernel)",
   "language": "python",
   "name": "python3"
  },
  "language_info": {
   "codemirror_mode": {
    "name": "ipython",
    "version": 3
   },
   "file_extension": ".py",
   "mimetype": "text/x-python",
   "name": "python",
   "nbconvert_exporter": "python",
   "pygments_lexer": "ipython3",
   "version": "3.10.0"
  }
 },
 "nbformat": 4,
 "nbformat_minor": 2
}
