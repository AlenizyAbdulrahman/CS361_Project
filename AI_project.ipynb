{
 "cells": [
  {
   "cell_type": "markdown",
   "metadata": {},
   "source": [
    "# Intoduction: \n",
    "Search algorithms are used to find the goal starting from the starting state to the goal state by taking the problem as an input and returning the solution to the problem after a number of steps to reach a possible solution result.\n",
    "\n",
    "Search algorithms contains:\n",
    "<ul>\n",
    "<li>State space: a set of all accessible configurations in the problem environment.</li>\n",
    "<li>Successor function: number of possible action from one state to another.</li>\n",
    "<li>Start state: starting point.</li>\n",
    "<li>Goal State: Access Point (the target).</li>\n",
    "</ul>\n",
    "\n",
    "There are tow types of search algorithms:\n",
    "<ol type=\"1\">\n",
    "<li>informed search algorithms: A informed search algorithm has a set of features such as how far we are from the target, the cost of the path, and how to reach the target node. These features help agents to reduce the exploration of the search space and find the target node more efficiently. For example, the greedy search algorithm and A*.</li><br>\n",
    "<li>Uninformed Search Algorithms: Uninformed search algorithms are a class of brute force search algorithms. Undirected search algorithms do not contain additional information about the state or search space and whether the path is true or false to traverse the tree. For example, Breadth first search and Depth first search.</li>\n",
    "</ol>\n",
    "\n",
    "\n",
    "<b>In this project we will explan and implement A* search algorithm.</b>"
   ]
  },
  {
   "cell_type": "markdown",
   "metadata": {
    "direction": "rtl"
   },
   "source": [
    "# مقدمة\n",
    "\n",
    "تستخدم خوارزميات البحث للعثور على الهدف بدءا من نقطة البداية الى الهدف المطلوب عن طريق اخذ المشكلة كمدخل واعادة الحل للمشكلة بعد عدد من الخطوات للوصول الى نتيجة حل ممكنة.\n",
    "\n",
    "تحتوي خوارزميات البحث على:\n",
    "<ul>\n",
    "<li>فضاء الحالة : هي مجموعة التكوينات التي يمكن الوصول اليها في بيئة المشكلة.</li>\n",
    "<li>خليفة الدالة: عدد الاحتمالات الممكنة من حالة الى حالة اخرى.</li>\n",
    "<li>حالة البداية : نقطة الانطلاق.</li>\n",
    "<li>حالة الهدف : نقطة الوصول.</li>\n",
    "</ul>\n",
    "\n",
    "خوارزميات البحث تنقسم إلى نوعين:\n",
    " \n",
    "<ol type=\"1\">\n",
    "<li>خوارزميات بحث موجَّه: تحتوي خوارزمية البحث الموجه على مجموعة من الميزات مثل مدى بُعدنا عن الهدف ، وتكلفة المسار ، وكيفية الوصول إلى العقدة المستهدفة. تساعد هذه الميزات الوكلاء على تقليل استكشاف مساحة البحث والعثور على العقدة المستهدفة بشكل أكثر كفاءة. مثل , خوارزمية البحث الجشعة و أ * .</li>\n",
    "    <br>    \n",
    "<li>خوارزميات بحث غير موجَّه: خوارزمية البحث غير موجه هي فئة من خوارزميات البحث التي تعمل بطريقة القوة الغاشمة. لا تحتوي خوارزميات البحث الغير موجه على معلومات إضافية حول الحالة أو مساحة البحث وما إذا كان المسار صحيحًا أم خاطئًا لاجتياز الشجرة. مثل , اتساع البحث أولا و عمق البحث الأول .</li>\n",
    "</ol>\n",
    "\n",
    "<b>في هذا البروجكت سوف نقوم بشرح وتطبيق خوارزمية البحث أ* بأستخدام لغة بايثون.</b>\n",
    "\n",
    "\n"
   ]
  },
  {
   "cell_type": "markdown",
   "metadata": {},
   "source": [
    "# A* search algorithm:\n",
    "\n",
    "A* search algorithm finds the lowest cost path from the start state to goal state (the target), it use a heuristic function, and it is provide a complete as well as an optimal soulution.\n",
    "<ul>\n",
    "<li>Heuristic function: measure how close the target is to the current state, and used to decide which states leads to goal, heuristic function is important in determining the efficiency of the algorithm.</li>\n",
    "<li>Optimal: find the least cost path to acvhive a goal state \" best possible solution for the problem \".</li>\n",
    "<li>Complete: find all available paths from start state to goal state.</li>\n",
    "</ul>\n",
    "\n",
    "\n",
    "\n",
    "\n"
   ]
  },
  {
   "cell_type": "markdown",
   "metadata": {
    "direction": "rtl"
   },
   "source": [
    "# خوارزمية أ*:\n",
    "\n",
    "تعمل خوارزمية البحث أ* على إيجاد اقل مسار تكلفة من نقطة البداية الى نقطة النهاية (الهدف), تستخدم خوارزمية أ* الدالة الارشادية , كما انها توفر لنا حل مكتمل و مثالي . \n",
    "<ul>\n",
    "<li>الدالة الارشادية: قياس مدى قرب الهدف من الحالة الحالية, تعتبر الدالة الارشادية مهمه لتحديد الحالات التي ترشدنا الى الهدف كما انها تستخدم لتحديد كفاءة الخوارزمية.</li>\n",
    "<li>مثالي: العثور على المسار الأقل تكلفة لتحقيق حالة الهدف \" أفضل حل ممكن للمشكلة \".</li>\n",
    "<li>مكتمل: البحث عن جميع المسارات المتاحة من حالة البداية إلى حالة الهدف.</li>\n",
    "</ul>\n",
    "\n"
   ]
  },
  {
   "cell_type": "markdown",
   "metadata": {},
   "source": [
    "# A* concepts:\n",
    "\n",
    "\n",
    "A* search algorithm calculate the cost to travel from current state to the neighbouring states and chooses the state that has least cost by using a mathematical equation.<br>\n",
    "    \n",
    "f(n) = g(n) + h(n)\n",
    "<p> \n",
    "Where:<br>\n",
    "g(n): the actual cost path from the start state to the current state.<br>\n",
    "h(n): the estimate cost path from the current state to the goal state.<br>\n",
    "f(n): the estimate cost path from the start state to the goal state.<br>\n",
    "</p>\n",
    "\n",
    "To solve problem by using A* algorithm we will use two arrays.<br>\n",
    "<ul>\n",
    "<li>The first array is used to store the neighbour states to the current state, we will call it \"Fringe\".</li>\n",
    "<li>The second array is used to store the states that have been traveled to in order to avoid a cycle, so that if we travel to a certain state and it is added to the second array we cannot travel to it again, we will call it \"Expand\".</li>\n",
    "</ul>\n",
    "\n",
    "\n",
    "\n",
    "\n",
    "In the following example, we will see how the A* search algorithm works."
   ]
  },
  {
   "cell_type": "markdown",
   "metadata": {
    "direction": "rtl"
   },
   "source": [
    "# مفاهيم أ*:\n",
    "\n",
    "تحسب خوارزمية البحث أ* تكلفة التنقل من الحالة الحالية إلى الحالات المجاورة وتختار الحالة الأقل تكلفة باستخدام معادلة رياضية.\n",
    "\n",
    "f(n) = g(n) + h(n) \n",
    "\n",
    "<p> \n",
    "حيث أن :<br>\n",
    "g(n): مسار التكلفة الفعلية من حالة البداية إلى الحالة الحالية.\n",
    "<br>\n",
    "h(n): مسار التكلفة التقديرية من الحالة الحالية إلى حالة الهدف.\n",
    "<br>\n",
    "f(n): مسار التكلفة التقديرية من حالة البداية إلى حالة الهدف.\n",
    "<br>\n",
    "</p>\n",
    "\n",
    "لحل المشكلة باستخدام خوارزمية أ* سوف نستخدم مصفوفتين.\n",
    "<ul>\n",
    "<li>المصفوفة الاولى تستخدم لتخزين الحالات المجاورة للحالة الحالية، سوف نقوم بتسميتها \"Fringe\".</li>\n",
    "<li>المصفوفة الثانية تستخدم لتخزين الحالات الي تم السفر اليها لكي  نتفادي حدوث دورة، بحيث اذا قمنا بالسفر الى حالة معينة وتم اضافتها الى المصفوفة الثانية لايمكننا السفر اليها مرة اخرى، سوف نقوم بتسميتها \"Expand\".</li>\n",
    "</ul>\n",
    "\n",
    "في المثال التالي سوف نرى آلية عمل خوارزمية البحث أ* ."
   ]
  },
  {
   "cell_type": "markdown",
   "metadata": {
    "direction": "ltr"
   },
   "source": [
    " <video controls src=\"Shared\\AExample.mp4\" width=\"950\" height=\"350\"></video>"
   ]
  },
  {
   "cell_type": "markdown",
   "metadata": {},
   "source": [
    "now after we have seen how is A* search algorithm working we will aplly it on our problem."
   ]
  },
  {
   "cell_type": "markdown",
   "metadata": {
    "direction": "rtl"
   },
   "source": [
    " الأن بعد ان رأينا كيفية عمل خوارزمية البحث أ* سوف نقوم بتطبيقها على مشكلتنا."
   ]
  },
  {
   "cell_type": "markdown",
   "metadata": {},
   "source": [
    "# Networks Problem Example \n",
    "\n",
    "As we can see in the following example, the network is divided into two parts:\n",
    "<ol>\n",
    "<li>The network edge and it contains a group of computers linked to a common router.</li>\n",
    "<li>The network core and it contains a group of routers.</li>\n",
    "</ol>\n",
    "When we sending data between two computers in different networks edge, the message will transmit from the sender network edge to the network core and passing through a group of routers until it reach to other network edge where the destination is located."
   ]
  },
  {
   "cell_type": "markdown",
   "metadata": {
    "direction": "rtl"
   },
   "source": [
    "# مثال على مشكلة الشبكات\n",
    "\n",
    "كما نرى في المثال التالي تنقسم الشبكة الى قسمين:\n",
    "<ol>\n",
    "<li>أطراف الشبكة وتحتوي على مجموعة من أجهزة الحاسب مرتبطة بجهاز راوتر مشترك.</li>\n",
    "<li>نواة الشبكة وتحتوي على مجموعة من أجهزة الراوتر.</li>\n",
    "</ol>\n",
    "\n",
    "عند إرسال البيانات بين جهازين حاسب في طرفين مختلفين فإن الرسالة تنتقل من حاسب المرسل الموجود في طرف الشبكة الى نواة الشبكة والانتقال بين مجموعة من أجهزه الراوتر الى طرف الشبكة الاخر لتسليم البيانات الى حاسب المستلم (الهدف المطلوب)."
   ]
  },
  {
   "cell_type": "markdown",
   "metadata": {},
   "source": [
    "<img src=\"Shared\\networkimg.png\" width=\"950\" height=\"350\">"
   ]
  },
  {
   "cell_type": "markdown",
   "metadata": {},
   "source": [
    "We will apply the algorithm to the problem of sending data from device A to device G1 to find the fastest possible path to transfer data between two devices.<br>\n",
    "\n",
    "The heuristic function used in this example is the number of users on the networks. if number of users decrease then the data transmission rate will increase.<br>\n",
    "<ul>\n",
    "<li>The edges number between nodes represent the real number of users in the network.</li>\n",
    "<li>The numbers above the node represent the estimated number of users in the network.</li>\n",
    "</ul>\n",
    "\n",
    "problem formulation:\n",
    "<ol type = \"1\">\n",
    "<li>State space: computers and routers.</li>\n",
    "<li>Successor function: moves from one router to another router.</li>\n",
    "<li>Initial state: source device \"A\".</li>\n",
    "<li>Goal state (target): destination device \"G1\".</li>\n",
    "</ol>"
   ]
  },
  {
   "cell_type": "markdown",
   "metadata": {
    "direction": "rtl"
   },
   "source": [
    "سوف نطبق الخوارزمية على مشكلة ارسال البيانات من جهاز أ الى جهاز ج للعثور على أسرع طريق ممكن لنقل البيانات بين الجهازين.\n",
    "\n",
    "الدالة الارشادية المستخدمة في هذا المثال عدد المستخدمين في الشبكة، فكلما قل عدد المستخدمين زادت سرعة إرسال البيانات.\n",
    "<ul>\n",
    "<li>تمثل الأرقام الموجودة على الاضلاع المرتبطة بين العقد القيمة الحقيقية لعدد المستخدمين في الشبكة.</li>\n",
    "<li>تمثل الأرقام الموجودة فوق العقدة القيمة المتوقعة لعدد المستخدمين في الشبكة.</li>\n",
    "</ul>\n",
    "\n",
    "صياغة المشكلة:\n",
    "<ol type = \"1\">\n",
    "<li>فضاء الحالة: أجهزه الحاسب وجميع أجهزه الراوتر.</li>\n",
    "<li>التحركات: الانتقال من راوتر الى راوتر اخر.</li>\n",
    "<li>الحالة الابتدائية: المرسل جهاز أ.</li>\n",
    "<li>الحالة النهائية (الهدف): المستقبل جهاز ج.</li>\n",
    "</ol>"
   ]
  },
  {
   "cell_type": "markdown",
   "metadata": {},
   "source": [
    " <video controls src=\"Shared\\NetworkExample.mp4\" width=\"950\" height=\"350\" muted></video>"
   ]
  },
  {
   "cell_type": "markdown",
   "metadata": {},
   "source": [
    "# Implementation:"
   ]
  },
  {
   "cell_type": "markdown",
   "metadata": {
    "direction": "rtl"
   },
   "source": [
    "# التنفيذ"
   ]
  },
  {
   "cell_type": "markdown",
   "metadata": {},
   "source": [
    "### Represent the problem as a tree\n",
    "we will convert the problem as a tree to solve it in easy way."
   ]
  },
  {
   "cell_type": "markdown",
   "metadata": {
    "direction": "rtl"
   },
   "source": [
    "### تمثيل المشكلة على هيئة شجرة\n",
    "سوف نقوم بتحويل المشكلة على هيئة شجرة لحلها بطريقة مبسطة ."
   ]
  },
  {
   "cell_type": "code",
   "execution_count": 13,
   "metadata": {},
   "outputs": [],
   "source": [
    "tree = {\n",
    "    'A': [ ['R1',1] ],\n",
    "    'B': [ ['R1',1] ],\n",
    "    'C': [ ['R1',1] ],\n",
    "    'D': [ ['R1',1] ],\n",
    "    'R1': [ ['R2',3], ['R3',5] ],\n",
    "    'R2': [ ['R3',1], ['R4',4], ['R5',6] ],\n",
    "    'R3': [ ['R2',1], ['R5',5] ],\n",
    "    'R4': [ ['R6',6] ],\n",
    "    'R5': [ ['R6',4] ],\n",
    "    'R6': [ ['G1', 1], ['G2', 1], ['G3', 1], ['G4', 1] ]\n",
    "    \n",
    "}\n",
    "\n",
    "heuristic = {'A': 14, 'B': 14, 'C': 14, 'D': 14, 'R1': 13, 'R2': 10, 'R3': 9, 'R4': 7, 'R5': 6, 'R6': 1, 'G1': 0, 'G2': 0, 'G3': 0, 'G4': 0}"
   ]
  },
  {
   "cell_type": "markdown",
   "metadata": {},
   "source": [
    "### A* search algorithm\n",
    "Now let us see how to implement A* search algorithm function. "
   ]
  },
  {
   "cell_type": "markdown",
   "metadata": {
    "direction": "rtl"
   },
   "source": [
    "### خوارزمية البحث أ*\n",
    "الآن دعونا نرى كيفية تنفيذ خوارزمية البحث أ* ."
   ]
  },
  {
   "cell_type": "code",
   "execution_count": 14,
   "metadata": {},
   "outputs": [],
   "source": [
    "class AstarSearch:\n",
    "\n",
    "    #creat class constructor that takes two parameters: tree and heuristic \n",
    "    def __init__(self, tree, heuristic):\n",
    "        self.tree       = tree\n",
    "        self.heuristic  = heuristic \n",
    "\n",
    "    #A* search algorithm function\n",
    "    #this function used constructor variables and takes tow parameters: start and goal states \n",
    "    #this function returns two parameters : visited node & Optimal path\n",
    "    def a_star_search_algorithm(self, start, Goal):\n",
    "        self.Expand_nodes = []     # Expanded nodes\n",
    "        self.fringe_nodes = []     # Fringe nodes\n",
    "        self.cost = {start: 0} #initial cost of paths\n",
    "        self.start_heuristic = self.heuristic[start] #getting start state heuristic\n",
    "        self.fringe_nodes = [[start,self.start_heuristic]] #add start state and its heuristic to fringe node"
   ]
  },
  {
   "cell_type": "markdown",
   "metadata": {},
   "source": [
    "As we can see in the previous section, we created a class for the algorithm and defined the class constructor that receives the tree and the heuristic function, and then we created the A* algorithm function that receives the start state and the target state and adds the start state to the “Fringe node” array."
   ]
  },
  {
   "cell_type": "markdown",
   "metadata": {
    "direction": "rtl"
   },
   "source": [
    "كما نرى في الجزئية السابقة قمنا بانشاء فصل للخوارزمية وتعريف منشئ الكلاس يستقبل الشجرة والدالة الارشادية ومن ثم قمنا بانشاء دالة الخوارزمية أ* تستقبل حالة البداية وحالة الهدف وتقوم باضافة حالة البداية الى مصفوفة \"Fringe node\". "
   ]
  },
  {
   "cell_type": "code",
   "execution_count": null,
   "metadata": {
    "collapsed": true
   },
   "outputs": [],
   "source": [
    "        while True:\n",
    "            self.hn = [i[1] for i in self.fringe_nodes]     # determine h(n): for current state \n",
    "            self.min_value_hn = self.hn.index(min(self.hn)) # take the smallest value of h(n) from fringe nodes\n",
    "\n",
    "            self.small_node_char = self.fringe_nodes[self.min_value_hn][0]  # determine character of smallest h(n) value\n",
    "            self.Expand_nodes.append(self.fringe_nodes[self.min_value_hn]) # add smallest h(n) node to expand nodes\n",
    "            del self.fringe_nodes[self.min_value_hn] # delete smallest node value from fringe\n",
    "            if self.Expand_nodes[-1][0] == Goal:  # break the loop if Goal state has been expanded\n",
    "                break"
   ]
  },
  {
   "cell_type": "markdown",
   "metadata": {},
   "source": [
    "In the previous section, we created a while loop to go through all the nodes.\n",
    "\n",
    "Then we set the heuristic function with the lowest value from \"Fringe\", after that we select the nodes to which the value of heuristic function belongs to, and we add the value and the heuristic function together to \"Expand\" and delete it from \"Fringe\".\n",
    "\n",
    "Adding if condition to stop the repetition in case the target was added in “Expand”."
   ]
  },
  {
   "cell_type": "markdown",
   "metadata": {
    "direction": "rtl"
   },
   "source": [
    "في القسم السابق ، أنشأنا حلقة تكرارية للمرور بجميع العقد.\n",
    "\n",
    "ثم قمنا بتحديد الدالة الارشادية الاقل قيمة من \"Fringe\" بعد ذلك قمنا بتحديد العقد الذي تنتمي اليه قيمة الدالة الارشادية واضافنا القيمة والعقد معا الى \"Expand\" وحذفه من \"Fringe\" .\n",
    "\n",
    "واضافة جملة شرطية لوقف التكرار في حال تم اضافة الهدف في \"ُExpand\"."
   ]
  },
  {
   "cell_type": "code",
   "execution_count": null,
   "metadata": {},
   "outputs": [],
   "source": []
  }
 ],
 "metadata": {
  "direction": "ltr",
  "kernelspec": {
   "display_name": "Python 3 (ipykernel)",
   "language": "python",
   "name": "python3"
  },
  "language_info": {
   "codemirror_mode": {
    "name": "ipython",
    "version": 3
   },
   "file_extension": ".py",
   "mimetype": "text/x-python",
   "name": "python",
   "nbconvert_exporter": "python",
   "pygments_lexer": "ipython3",
   "version": "3.10.0"
  }
 },
 "nbformat": 4,
 "nbformat_minor": 2
}
