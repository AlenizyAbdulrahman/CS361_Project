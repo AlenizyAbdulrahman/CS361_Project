{
 "cells": [
  {
   "cell_type": "markdown",
   "metadata": {},
   "source": [
    "# Intoduction: \n",
    "Search algorithms are used to find the goal starting from the starting state to the goal state by taking the problem as an input and returning the solution to the problem after a number of steps to reach a possible solution result.\n",
    "\n",
    "The search algorithms contain:\n",
    "\n",
    "State space: a set of all accessible configurations in the problem environment.\n",
    "\n",
    "Successor function: number of possible action from one state to another.\n",
    "\n",
    "Start state: starting point.\n",
    "\n",
    "Goal State: Access Point (the target).\n",
    "\n",
    "There are tow types of search algorithms:\n",
    "1) informed search algorithms: A informed search algorithm has a set of features such as how far we are from the target, the cost of the path, and how to reach the target node. These features help agents to reduce the exploration of the search space and find the target node more efficiently. For example, the greedy search algorithm and A*.\n",
    "\n",
    "2) Uninformed Search Algorithms: Uninformed search algorithms are a class of brute force search algorithms. Undirected search algorithms do not contain additional information about the state or search space and whether the path is true or false to traverse the tree. For example, Breadth first search and Depth first search.\n",
    "\n",
    "In this project we will explan and implement A* search algorithm."
   ]
  },
  {
   "cell_type": "markdown",
   "metadata": {
    "direction": "rtl"
   },
   "source": [
    "# مقدمة\n",
    "\n",
    "تستخدم خوارزميات البحث للعثور على الهدف بدءا من نقطة البداية الى الهدف المطلوب عن طريق اخذ المشكلة كمدخل واعادة الحل للمشكلة بعد عدد من الخطوات للوصول الى نتيجة حل ممكنة.\n",
    "\n",
    "تحتوي خوارزميات البحث على:\n",
    "\n",
    "فضاء الحالة : هي مجموعة التكوينات التي يمكن الوصول اليها في بيئة المشكلة.\n",
    "\n",
    "خليفة الدالة: عدد الاحتمالات الممكنة من حالة الى حالة اخرى.\n",
    "\n",
    "حالة البداية : نقطة الانطلاق.\n",
    "\n",
    "حالة الهدف : نقطة الوصول.\n",
    "\n",
    "خوارزميات البحث تنقسم إلى نوعين:\n",
    "\n",
    "1) خوارزميات بحث موجَّه: تحتوي خوارزمية البحث الموجه على مجموعة من الميزات مثل مدى بُعدنا عن الهدف ، وتكلفة المسار ، وكيفية الوصول إلى العقدة المستهدفة. تساعد هذه الميزات الوكلاء على تقليل استكشاف مساحة البحث والعثور على العقدة المستهدفة بشكل أكثر كفاءة. مثل , خوارزمية البحث الجشعة و أ * . \n",
    " \n",
    "2) خوارزميات بحث غير موجَّه: خوارزمية البحث غير موجه هي فئة من خوارزميات البحث التي تعمل بطريقة القوة الغاشمة. لا تحتوي خوارزميات البحث الغير موجه على معلومات إضافية حول الحالة أو مساحة البحث وما إذا كان المسار صحيحًا أم خاطئًا لاجتياز الشجرة. مثل , اتساع البحث أولا و عمق البحث الأول .\n",
    "\n",
    "في هذا البروجكت سوف نقوم بشرح وتطبيق خوارزمية البحث أ* بأستخدام لغة بايثون.\n",
    "\n"
   ]
  },
  {
   "cell_type": "markdown",
   "metadata": {},
   "source": [
    "# A* search algorithm:\n",
    "\n",
    "A* search algorithm finds the lowest cost from the start state to goal state (the target), it use heuristic function, and it is a complete as well as an optimal soulution.\n",
    "\n",
    "Heuristic function: measure how close the target is to the current state, heuristic function is important in determining the efficiency of the algorithm by predicts the path value between the start state and the goal state.\n",
    "\n",
    "Optimal: find the least cost path to acvhive a goal state \" best possible solution for the problem \".\n",
    "\n",
    "Complete: find all available paths from start state to goal state."
   ]
  },
  {
   "cell_type": "markdown",
   "metadata": {
    "direction": "rtl"
   },
   "source": [
    "# خوارزمية أ*:\n",
    "\n",
    "تعمل خوارزمية البحث أ* على إيجاد اقل تكلفة من نقطة البداية الى نقطة النهاية (الهدف), تستخدم خوارزمية أ* الدالة الارشادية , كما انها توفر لنا حل مكتمل و مثالي . \n",
    "\n",
    "الدالة الارشادية: قياس مدى قرب الهدف من الحالة الحالية, تعتبر الدالة الارشادية مهمه في تحديد كفاءة الخوارزمية عن طريق توقع قيمة الطريق من حالة البداية الى حالة الهدف.\n",
    "\n",
    "مثالي: العثور على المسار الأقل تكلفة لتحقيق حالة الهدف \" أفضل حل ممكن للمشكلة \".\n",
    "\n",
    "مكتمل: البحث عن جميع المسارات المتاحة من حالة البداية إلى حالة الهدف.  \n"
   ]
  },
  {
   "cell_type": "markdown",
   "metadata": {},
   "source": [
    "# A* concepts:\n",
    "\n",
    "A* search algorithm calculate the cost to travel from current state to the neighbouring states and chooses the state that has least cost by using a mathematical equation.\n",
    "\n",
    "f(n) = g(n) + h(n)\n",
    "\n",
    "Where: \n",
    "\n",
    "g(n): the actual cost path from the start state to the current state.\n",
    "\n",
    "h(n): the estimate cost path from the current state to the goal state.\n",
    "\n",
    "f(n): the estimate cost path from the start state to the goal state."
   ]
  },
  {
   "cell_type": "markdown",
   "metadata": {
    "direction": "rtl"
   },
   "source": [
    "# مفاهيم أ*:\n",
    "\n",
    "تحسب خوارزمية البحث أ* تكلفة التنقل من الحالة الحالية إلى الحالة المجاورة وتختار الحالة الأقل تكلفة باستخدام معادلة رياضية.\n",
    "\n",
    "f(n) = g(n) + h(n) \n",
    "\n",
    "حيث أن :\n",
    "\n",
    "g(n): مسار التكلفة الفعلية من حالة البداية إلى الحالة الحالية.\n",
    "\n",
    "h(n): مسار التكلفة التقديرية من الحالة الحالية إلى حالة الهدف.\n",
    "\n",
    "f(n): مسار التكلفة التقديرية من حالة البداية إلى حالة الهدف.\n"
   ]
  },
  {
   "cell_type": "code",
   "execution_count": null,
   "metadata": {},
   "outputs": [],
   "source": []
  },
  {
   "cell_type": "code",
   "execution_count": null,
   "metadata": {},
   "outputs": [],
   "source": []
  }
 ],
 "metadata": {
  "kernelspec": {
   "display_name": "Python 3 (ipykernel)",
   "language": "python",
   "name": "python3"
  },
  "language_info": {
   "codemirror_mode": {
    "name": "ipython",
    "version": 3
   },
   "file_extension": ".py",
   "mimetype": "text/x-python",
   "name": "python",
   "nbconvert_exporter": "python",
   "pygments_lexer": "ipython3",
   "version": "3.10.0"
  }
 },
 "nbformat": 4,
 "nbformat_minor": 2
}
