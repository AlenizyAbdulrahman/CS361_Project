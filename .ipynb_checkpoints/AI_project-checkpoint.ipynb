{
 "cells": [
  {
   "cell_type": "markdown",
   "metadata": {},
   "source": [
    "# Intoduction: \n",
    "Search algorithms are used to find the goal starting from the starting state to the goal state by taking the problem as an input and returning the solution to the problem after a number of steps to reach a possible solution result.\n",
    "\n",
    "Search algorithms contains:\n",
    "<ul>\n",
    "<li>State space: a set of all accessible configurations in the problem environment.</li>\n",
    "<li>Successor function: number of possible action from one state to another.</li>\n",
    "<li>Start state: starting point.</li>\n",
    "<li>Goal State: Access Point (the target).</li>\n",
    "</ul>\n",
    "\n",
    "There are tow types of search algorithms:\n",
    "<ol type=\"1\">\n",
    "<li>informed search algorithms: A informed search algorithm has a set of features such as how far we are from the target, the cost of the path, and how to reach the target node. These features help agents to reduce the exploration of the search space and find the target node more efficiently. For example, the greedy search algorithm and A*.</li><br>\n",
    "<li>Uninformed Search Algorithms: Uninformed search algorithms are a class of brute force search algorithms. Undirected search algorithms do not contain additional information about the state or search space and whether the path is true or false to traverse the tree. For example, Breadth first search and Depth first search.</li>\n",
    "</ol>\n",
    "\n",
    "\n",
    "<b>In this project we will explan and implement A* search algorithm.</b>"
   ]
  },
  {
   "cell_type": "markdown",
   "metadata": {
    "direction": "rtl"
   },
   "source": [
    "# مقدمة\n",
    "\n",
    "تستخدم خوارزميات البحث للعثور على الهدف بدءا من نقطة البداية الى الهدف المطلوب عن طريق اخذ المشكلة كمدخل واعادة الحل للمشكلة بعد عدد من الخطوات للوصول الى نتيجة حل ممكنة.\n",
    "\n",
    "تحتوي خوارزميات البحث على:\n",
    "<ul>\n",
    "<li>فضاء الحالة : هي مجموعة التكوينات التي يمكن الوصول اليها في بيئة المشكلة.</li>\n",
    "<li>خليفة الدالة: عدد الاحتمالات الممكنة من حالة الى حالة اخرى.</li>\n",
    "<li>حالة البداية : نقطة الانطلاق.</li>\n",
    "<li>حالة الهدف : نقطة الوصول.</li>\n",
    "</ul>\n",
    "\n",
    "خوارزميات البحث تنقسم إلى نوعين:\n",
    " \n",
    "<ol type=\"1\">\n",
    "<li>خوارزميات بحث موجَّه: تحتوي خوارزمية البحث الموجه على مجموعة من الميزات مثل مدى بُعدنا عن الهدف ، وتكلفة المسار ، وكيفية الوصول إلى العقدة المستهدفة. تساعد هذه الميزات الوكلاء على تقليل استكشاف مساحة البحث والعثور على العقدة المستهدفة بشكل أكثر كفاءة. مثل , خوارزمية البحث الجشعة و أ * .</li>\n",
    "    <br>    \n",
    "<li>خوارزميات بحث غير موجَّه: خوارزمية البحث غير موجه هي فئة من خوارزميات البحث التي تعمل بطريقة القوة الغاشمة. لا تحتوي خوارزميات البحث الغير موجه على معلومات إضافية حول الحالة أو مساحة البحث وما إذا كان المسار صحيحًا أم خاطئًا لاجتياز الشجرة. مثل , اتساع البحث أولا و عمق البحث الأول .</li>\n",
    "</ol>\n",
    "\n",
    "<b>في هذا البروجكت سوف نقوم بشرح وتطبيق خوارزمية البحث أ* بأستخدام لغة بايثون.</b>\n",
    "\n",
    "\n"
   ]
  },
  {
   "cell_type": "markdown",
   "metadata": {},
   "source": [
    "# A* search algorithm:\n",
    "\n",
    "A* search algorithm finds the lowest cost path from the start state to goal state (the target), it use a heuristic function, and it is provide a complete as well as an optimal soulution.\n",
    "<ul>\n",
    "<li>Heuristic function: measure how close the target is to the current state, heuristic function is important in determining the efficiency of the algorithm.</li>\n",
    "<li>Optimal: find the least cost path to acvhive a goal state \" best possible solution for the problem \".</li>\n",
    "<li>Complete: find all available paths from start state to goal state.</li>\n",
    "</ul>\n",
    "\n",
    "\n",
    "\n",
    "\n"
   ]
  },
  {
   "cell_type": "markdown",
   "metadata": {
    "direction": "rtl"
   },
   "source": [
    "# خوارزمية أ*:\n",
    "\n",
    "تعمل خوارزمية البحث أ* على إيجاد اقل مسار تكلفة من نقطة البداية الى نقطة النهاية (الهدف), تستخدم خوارزمية أ* الدالة الارشادية , كما انها توفر لنا حل مكتمل و مثالي . \n",
    "<ul>\n",
    "<li>الدالة الارشادية: قياس مدى قرب الهدف من الحالة الحالية, تعتبر الدالة الارشادية مهمه في تحديد كفاءة الخوارزمية.</li>\n",
    "<li>مثالي: العثور على المسار الأقل تكلفة لتحقيق حالة الهدف \" أفضل حل ممكن للمشكلة \".</li>\n",
    "<li>مكتمل: البحث عن جميع المسارات المتاحة من حالة البداية إلى حالة الهدف.</li>\n",
    "</ul>\n",
    "\n"
   ]
  },
  {
   "cell_type": "markdown",
   "metadata": {},
   "source": [
    "# A* concepts:\n",
    "\n",
    "\n",
    "A* search algorithm calculate the cost to travel from current state to the neighbouring states and chooses the state that has least cost by using a mathematical equation.<br>\n",
    "    \n",
    "f(n) = g(n) + h(n)\n",
    "<p> \n",
    "Where:<br>\n",
    "g(n): the actual cost path from the start state to the current state.<br>\n",
    "h(n): the estimate cost path from the current state to the goal state.<br>\n",
    "f(n): the estimate cost path from the start state to the goal state.<br>\n",
    "</p>\n",
    "\n",
    "To solve problem by using A* algorithm we will use two arrays.<br>\n",
    "<ul>\n",
    "<li>The first array is used to store the neighbour states to the current state, we will call it \"Fringe\".</li>\n",
    "<li>The second array is used to store the states that have been traveled to in order to avoid a cycle, so that if we travel to a certain state and it is added to the second array we cannot travel to it again, we will call it \"Expand\".</li>\n",
    "</ul>\n",
    "\n",
    "\n",
    "\n",
    "\n",
    "In the following example, we will see how the A* search algorithm works."
   ]
  },
  {
   "cell_type": "markdown",
   "metadata": {
    "direction": "rtl"
   },
   "source": [
    "# مفاهيم أ*:\n",
    "\n",
    "تحسب خوارزمية البحث أ* تكلفة التنقل من الحالة الحالية إلى الحالات المجاورة وتختار الحالة الأقل تكلفة باستخدام معادلة رياضية.\n",
    "\n",
    "f(n) = g(n) + h(n) \n",
    "\n",
    "<p> \n",
    "حيث أن :<br>\n",
    "g(n): مسار التكلفة الفعلية من حالة البداية إلى الحالة الحالية.\n",
    "<br>\n",
    "h(n): مسار التكلفة التقديرية من الحالة الحالية إلى حالة الهدف.\n",
    "<br>\n",
    "f(n): مسار التكلفة التقديرية من حالة البداية إلى حالة الهدف.\n",
    "<br>\n",
    "</p>\n",
    "\n",
    "لحل المشكلة باستخدام خوارزمية أ* سوف نستخدم مصفوفتين.\n",
    "<ul>\n",
    "<li>المصفوفة الاولى تستخدم لتخزين الحالات المجاورة للحالة الحالية، سوف نقوم بتسميتها \"Fringe\".</li>\n",
    "<li>المصفوفة الثانية تستخدم لتخزين الحالات الي تم السفر اليها لكي  نتفادي حدوث دورة، بحيث اذا قمنا بالسفر الى حالة معينة وتم اضافتها الى المصفوفة الثانية لايمكننا السفر اليها مرة اخرى، سوف نقوم بتسميتها \"Expand\".</li>\n",
    "</ul>\n",
    "\n",
    "في المثال التالي سوف نرى آلية عمل خوارزمية البحث أ* ."
   ]
  },
  {
   "cell_type": "markdown",
   "metadata": {},
   "source": [
    " <video controls src=\"video1938349933_Trim.mp4\" width=\"950\" height=\"350\"></video>"
   ]
  },
  {
   "cell_type": "markdown",
   "metadata": {},
   "source": []
  }
 ],
 "metadata": {
  "kernelspec": {
   "display_name": "Python 3 (ipykernel)",
   "language": "python",
   "name": "python3"
  },
  "language_info": {
   "codemirror_mode": {
    "name": "ipython",
    "version": 3
   },
   "file_extension": ".py",
   "mimetype": "text/x-python",
   "name": "python",
   "nbconvert_exporter": "python",
   "pygments_lexer": "ipython3",
   "version": "3.10.0"
  }
 },
 "nbformat": 4,
 "nbformat_minor": 2
}
